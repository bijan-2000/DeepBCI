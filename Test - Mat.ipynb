{
 "cells": [
  {
   "cell_type": "code",
   "execution_count": 19,
   "id": "97c61cd4",
   "metadata": {},
   "outputs": [],
   "source": [
    "import pandas as pd\n",
    "import scipy"
   ]
  },
  {
   "cell_type": "code",
   "execution_count": 2,
   "id": "f088088d",
   "metadata": {},
   "outputs": [],
   "source": [
    "data1 = scipy.io.loadmat(\"D:\\Research Dr. Power\\BCI_IV_2a\\BCI_IV_2a\\A01E.mat\")"
   ]
  },
  {
   "cell_type": "code",
   "execution_count": 6,
   "id": "2c449b90",
   "metadata": {},
   "outputs": [
    {
     "data": {
      "text/plain": [
       "dict_keys(['__header__', '__version__', '__globals__', 'data'])"
      ]
     },
     "execution_count": 6,
     "metadata": {},
     "output_type": "execute_result"
    }
   ],
   "source": [
    "data1.keys()"
   ]
  },
  {
   "cell_type": "code",
   "execution_count": 12,
   "id": "0b9f4591",
   "metadata": {},
   "outputs": [
    {
     "data": {
      "text/plain": [
       "(1, 9)"
      ]
     },
     "execution_count": 12,
     "metadata": {},
     "output_type": "execute_result"
    }
   ],
   "source": [
    "data1['data'].shape"
   ]
  },
  {
   "cell_type": "code",
   "execution_count": 40,
   "id": "4da7961f",
   "metadata": {},
   "outputs": [
    {
     "data": {
      "text/plain": [
       "array([-3.27148438, -3.95507812, -1.51367188,  0.68359375,  1.02539062,\n",
       "        0.68359375,  3.95507812,  2.34375   ,  7.32421875,  7.76367188,\n",
       "        6.15234375,  3.95507812,  2.34375   ,  9.375     , 10.10742188,\n",
       "       10.15625   ,  8.10546875,  6.00585938, 10.15625   ,  9.03320312,\n",
       "        8.54492188, 10.05859375, 16.6015625 ,  6.34765625, -0.48828125])"
      ]
     },
     "execution_count": 40,
     "metadata": {},
     "output_type": "execute_result"
    }
   ],
   "source": [
    "data1['data'][0][4][0][0][0][0]"
   ]
  },
  {
   "cell_type": "code",
   "execution_count": null,
   "id": "8de0f1b7",
   "metadata": {},
   "outputs": [],
   "source": []
  }
 ],
 "metadata": {
  "kernelspec": {
   "display_name": "Python 3 (ipykernel)",
   "language": "python",
   "name": "python3"
  },
  "language_info": {
   "codemirror_mode": {
    "name": "ipython",
    "version": 3
   },
   "file_extension": ".py",
   "mimetype": "text/x-python",
   "name": "python",
   "nbconvert_exporter": "python",
   "pygments_lexer": "ipython3",
   "version": "3.9.16"
  }
 },
 "nbformat": 4,
 "nbformat_minor": 5
}
